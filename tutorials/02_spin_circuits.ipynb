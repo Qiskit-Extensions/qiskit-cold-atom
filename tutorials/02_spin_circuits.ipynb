{
 "cells": [
  {
   "cell_type": "markdown",
   "id": "7062b892-4666-4538-a144-48b96519df75",
   "metadata": {},
   "source": [
    "# Spin circuits"
   ]
  },
  {
   "cell_type": "markdown",
   "id": "7c36d9ee-e618-4cc2-ba30-7f4904ee4bc6",
   "metadata": {},
   "source": [
    "In addition to the fermionic setting introduced in [the first tutorial](./01_introduction_and_fermionic_circuits.ipynb), the Qiskit cold atom module supports a framework to describe cold atomic architectures based on high-dimensional spins.\n",
    "\n",
    "Here, the unit of information, i.e. the individual wires in the quantum circuit, are given as quantum angular momenta or spins of length $S$, where $S$ can take positive integer or half-integer values. This can be seen as a generalization of the qubit setting (i.e. a qudit) where the qubit case corresponds to the smallest possible value $S=\\frac{1}{2}$.\n",
    "\n",
    "Each individual spin has $2S+1$ internal states which are labeled from  $\\left| 0 \\right>$ to  $\\left| 2S \\right>$. In analogy to qubits, we use the convention that each wire is initialized in the $\\left| 0 \\right>$ state at the start of a circuit. A measurement of a wire will project that spin to one of the eigenstates and return the measured outcome from $0$ to $2S$.   \n",
    "\n",
    "The spin module comes with a `SpinSimulator()` backend which serves as a general-purpose simulation backend analogous to the `FermionSimulator` for fermionic circuits."
   ]
  },
  {
   "cell_type": "code",
   "execution_count": 1,
   "id": "8d47da6f-68be-41d7-b22d-876ab55246fb",
   "metadata": {},
   "outputs": [
    {
     "name": "stdout",
     "output_type": "stream",
     "text": [
      "{'0 0 0 0': 1000}\n"
     ]
    }
   ],
   "source": [
    "from qiskit_cold_atom.spins import SpinSimulator\n",
    "from qiskit import QuantumCircuit, QuantumRegister\n",
    "\n",
    "backend = SpinSimulator()\n",
    "qc = QuantumCircuit(4)\n",
    "qc.measure_all()\n",
    "# confirm that an empty circuit will return '0 0 0 0'\n",
    "job = backend.run(qc, spin=3)\n",
    "\n",
    "print(job.result().get_counts())"
   ]
  },
  {
   "cell_type": "markdown",
   "id": "e5f1847f-4d92-4c10-946d-cddee2930055",
   "metadata": {},
   "source": [
    "## Spin Gates\n",
    "\n",
    "Quantum gates define the unitary operations that are carried out on the system. The gate unitary $U$ can be uniquely identified by the hermitian Hamiltonian $H$ that generates the evolution of the state (see [Qiskit textbook](https://qiskit.org/textbook/ch-gates/proving-universality.html#2.2-Unitary-and-Hermitian-matrices-)) as $U = e^{-i H}$.\n",
    "The description of the dynamics of cold atomic quantum simulators commonly takes place on the level of the Hamiltonian which the system implements. We therefore choose a language which defines the spin gates from their generating Hamiltonians.\n",
    "\n",
    "As a formal language to describe Hamiltonians for spin systems, we utilize the \n",
    "`SpinOp` from Qiskit Nature. Gates are then defined as instances or subclasses of the `SpinGate` class which inherits from Qiskit's original `Gate` class. \n",
    "\n",
    "In order for the `SpinSimulator` to run a circuit, each gate of the circuit needs to have its generating Hamiltonian given as a `SpinOp`.  \n",
    "\n",
    "As a first example, let's look at the generalization of a $\\pi$-rotation around the $X$-axis:"
   ]
  },
  {
   "cell_type": "code",
   "execution_count": 2,
   "id": "e9af1c17-6f33-4924-b86e-1f300fb7077b",
   "metadata": {},
   "outputs": [],
   "source": [
    "from qiskit_nature.operators.second_quantization import SpinOp\n",
    "from qiskit_cold_atom.spins import SpinGate\n",
    "import numpy as np\n",
    "\n",
    "Hx = np.pi*SpinOp(\"X\")  # generator of a rotation of angle pi around the x-axis\n",
    "\n",
    "rx_spin = SpinGate(name=\"rx_spin\", num_modes=1, generator=Hx)"
   ]
  },
  {
   "cell_type": "markdown",
   "id": "0f17d4bc-7883-4249-ade8-13c9f5ddfbc2",
   "metadata": {},
   "source": [
    "For details on the syntax of how to define a SpinOp please see the [SpinOp documentation](https://qiskit.org/documentation/nature/stubs/qiskit_nature.operators.second_quantization.SpinOp.html#qiskit_nature.operators.second_quantization.SpinOp). "
   ]
  },
  {
   "cell_type": "code",
   "execution_count": 4,
   "id": "208b2b96-bc50-4e95-9152-9c1d2f06ef6a",
   "metadata": {},
   "outputs": [
    {
     "data": {
      "image/png": "[encoded data removed]",
      "text/plain": [
       "<Figure size 357.679x144.48 with 1 Axes>"
      ]
     },
     "execution_count": 4,
     "metadata": {},
     "output_type": "execute_result"
    }
   ],
   "source": [
    "qc = QuantumCircuit(QuantumRegister(1, \"spin\"))\n",
    "\n",
    "qc.append(rx_spin, [0])\n",
    "qc.measure_all()\n",
    "qc.draw(output='mpl')"
   ]
  },
  {
   "cell_type": "code",
   "execution_count": 5,
   "id": "85328c06-3136-4ab9-bc1e-07e9761aaa75",
   "metadata": {},
   "outputs": [
    {
     "name": "stdout",
     "output_type": "stream",
     "text": [
      "{'20': 1000}\n"
     ]
    }
   ],
   "source": [
    "job = backend.run(qc, spin=10)\n",
    "print(job.result().get_counts())"
   ]
  },
  {
   "cell_type": "markdown",
   "id": "19d995c9-fe98-4c02-95e1-053556d50f0f",
   "metadata": {},
   "source": [
    "After applying the x-rotation, the spin has been flipped from pointing all the way \"up\" (0) to pointing all the way \"down\" to its largest value $2S = 20$.\n",
    "\n",
    "Note that for the definition of the gate, the length of the spin $S$ is not yet given explicitly. Rather, when running the job on the spin simulator backend, $S$ is given as an additional parameter of the simulation. The same circuit can thus be recycled and simulated with a different spin length:"
   ]
  },
  {
   "cell_type": "code",
   "execution_count": 6,
   "id": "798d268c-b400-4bce-928c-a53082f4bed7",
   "metadata": {},
   "outputs": [
    {
     "name": "stdout",
     "output_type": "stream",
     "text": [
      "{'12': 1000}\n"
     ]
    }
   ],
   "source": [
    "job = backend.run(qc, spin=6)\n",
    "print(job.result().get_counts())"
   ]
  },
  {
   "cell_type": "markdown",
   "id": "3553d9d4-fd0d-480a-9c81-7a41835e121d",
   "metadata": {},
   "source": [
    "### Example: Superposition\n",
    "\n",
    "As is the case for qubit systems, superpositions in the initial states can be created by rotating around the x-axis with an angle $\\phi \\neq \\pi$.\n",
    "Such a parameterized rotation gate is defined in the `SpinGateLibrary`, it is called the `LXGate` (as $L$ usually denotes the angular momentum in the cold atom community). Let's see what state is created when rotating with an angle of $\\phi= \\frac{\\pi}{2}$: "
   ]
  },
  {
   "cell_type": "code",
   "execution_count": 7,
   "id": "fcada3cf-e9ef-4eb6-a2a1-20516c21a4ba",
   "metadata": {},
   "outputs": [
    {
     "data": {
      "image/png": "[encoded data removed]",
      "text/plain": [
       "<Figure size 297.479x144.48 with 1 Axes>"
      ]
     },
     "execution_count": 7,
     "metadata": {},
     "output_type": "execute_result"
    }
   ],
   "source": [
    "from qiskit_cold_atom.spins import RLXGate\n",
    "\n",
    "qc = QuantumCircuit(QuantumRegister(1, \"spin\"))\n",
    "qc.append(RLXGate(np.pi/2), [0])\n",
    "qc.measure_all()\n",
    "qc.draw(output='mpl')"
   ]
  },
  {
   "cell_type": "code",
   "execution_count": 8,
   "id": "cea54658-1a2a-4221-a3ce-919d8407bb22",
   "metadata": {},
   "outputs": [
    {
     "data": {
      "image/png": "[encoded data removed]",
      "text/plain": [
       "<Figure size 297.479x144.48 with 1 Axes>"
      ]
     },
     "execution_count": 8,
     "metadata": {},
     "output_type": "execute_result"
    }
   ],
   "source": [
    "# The same circuit can also be built by the following shorthand notation\n",
    "# which is added to QuantumCircuit upon importing from qiskit_cold_atom.spins\n",
    "qc = QuantumCircuit(QuantumRegister(1, \"spin\"))\n",
    "qc.rlx(np.pi/2, 0)\n",
    "qc.measure_all()\n",
    "qc.draw(output='mpl')"
   ]
  },
  {
   "cell_type": "code",
   "execution_count": 9,
   "id": "fb79f225-b41d-488d-b2f4-904fd1647a1b",
   "metadata": {},
   "outputs": [
    {
     "data": {
      "image/png": "[encoded data removed]",
      "text/plain": [
       "<Figure size 504x360 with 1 Axes>"
      ]
     },
     "execution_count": 9,
     "metadata": {},
     "output_type": "execute_result"
    }
   ],
   "source": [
    "from qiskit.visualization import plot_histogram\n",
    "\n",
    "job = backend.run(qc, spin=10, shots=1000, seed=123)\n",
    "\n",
    "counts = job.result().get_counts()\n",
    "# convert counts to integers for better formatting\n",
    "plot_histogram({int(k):v for k,v in counts.items()})"
   ]
  },
  {
   "cell_type": "markdown",
   "id": "5a0b0d73-750c-4cae-9888-f4d94dc6f200",
   "metadata": {},
   "source": [
    "We see from the above result that a single rotation creates a superposition of all possible values, where the value \"in the middle\" $S=10$ is most likely to be measured. The measurement outcomes follows a binomial distribution with $p=\\frac{1}{2}$. "
   ]
  },
  {
   "cell_type": "markdown",
   "id": "43e66eb1-f860-495e-bf8d-d8487011ba57",
   "metadata": {},
   "source": [
    "### Example: Multi-spin gates\n",
    "\n",
    "We can also use the language of generating Hamiltonians to create multi-spin gates. As an example, we can use a ZZ-type interaction to create an equal superposition between the different combinations of extremal spin orientations $0$ and $2S$:"
   ]
  },
  {
   "cell_type": "code",
   "execution_count": 10,
   "id": "a9dc5a9b-1dbd-427b-9213-492e37aa60da",
   "metadata": {},
   "outputs": [
    {
     "data": {
      "image/png": "[encoded data removed]",
      "text/plain": [
       "<Figure size 538.279x204.68 with 1 Axes>"
      ]
     },
     "execution_count": 10,
     "metadata": {},
     "output_type": "execute_result"
    }
   ],
   "source": [
    "Hzz = np.pi*SpinOp(\"Z_0 Z_1\", register_length=2)  # generating Hamiltonian acting on two spins\n",
    "\n",
    "zz_gate = SpinGate(name=\"zz_spin\", num_modes=2, generator=Hzz)\n",
    "\n",
    "qc = QuantumCircuit(QuantumRegister(2, \"spin\"))\n",
    "\n",
    "qc.rlx(np.pi/2, [0, 1])\n",
    "qc.append(zz_gate, [0, 1])\n",
    "qc.rlx(np.pi/2, [0, 1])\n",
    "qc.measure_all()\n",
    "\n",
    "qc.draw(output='mpl')"
   ]
  },
  {
   "cell_type": "markdown",
   "id": "c7441469",
   "metadata": {},
   "source": [
    "Note that we could have achieved the same result by using the\n",
    "```python\n",
    "qc.rlzlz(np.pi, [0, 1])\n",
    "\n",
    "```\n",
    "instruction."
   ]
  },
  {
   "cell_type": "code",
   "execution_count": 11,
   "id": "a240ac6f-b648-4e06-aa8c-a24d10faa08c",
   "metadata": {},
   "outputs": [
    {
     "name": "stdout",
     "output_type": "stream",
     "text": [
      "counts:  {'2 0': 231, '2 2': 267, '0 0': 249, '0 2': 253}\n"
     ]
    },
    {
     "data": {
      "image/png": "[encoded data removed]",
      "text/plain": [
       "<Figure size 504x360 with 1 Axes>"
      ]
     },
     "execution_count": 11,
     "metadata": {},
     "output_type": "execute_result"
    }
   ],
   "source": [
    "job = backend.run(qc, spin=1, shots=1000, seed=1234)\n",
    "\n",
    "print(\"counts: \", job.result().get_counts())\n",
    "\n",
    "plot_histogram(job.result().get_counts())"
   ]
  },
  {
   "cell_type": "markdown",
   "id": "55208756-b8d7-45ce-8531-64f639a59fe9",
   "metadata": {},
   "source": [
    "The measured counts are returned in a space delimited format, where the first entry corresponds to the last spin in the register, etc. When executing circuits with spin-1/2, this recovers Qiskit's ordering of bitstrings for qubits. "
   ]
  },
  {
   "cell_type": "markdown",
   "id": "6a8b1667-7df6-4847-be7b-8584f8fd489b",
   "metadata": {},
   "source": [
    "## The spin simulator backend\n",
    "\n",
    "The `SpinSimulator` backend can also be used to access the statevector and the unitary of the circuit.  Internally, the backend simulates the evolution of the circuit by exact diagonalization. The statevector and unitary of the system can be retrieved in the familiar way of `result.get_statevector()` and `result.get_unitary()`. If there is a final measurement in the circuit, the returned state and unitary of the circuit are those just prior to measurement.\n",
    "\n",
    "Let's demonstrate this on the above circuit:"
   ]
  },
  {
   "cell_type": "code",
   "execution_count": 12,
   "id": "0eafe080-4250-4039-952c-28f2ebf45668",
   "metadata": {},
   "outputs": [
    {
     "name": "stdout",
     "output_type": "stream",
     "text": [
      "\n",
      "statevector : [-5.00000000e-01-1.36845553e-48j -1.30736460e-32+1.11022302e-16j\n",
      "  5.00000000e-01-1.36845553e-48j -1.23259516e-32+1.34015774e-16j\n",
      " -6.16297582e-33+6.12323400e-17j  0.00000000e+00+2.29934717e-17j\n",
      "  5.00000000e-01+3.42113883e-49j  4.35788200e-33+1.77904863e-17j\n",
      "  5.00000000e-01+3.42113883e-49j]\n",
      "\n",
      "circuit unitary : \n",
      " [[-5.00000000e-01-1.36845553e-48j -1.54074396e-32+1.66533454e-16j\n",
      "   5.00000000e-01+1.36845553e-48j -1.23259516e-32+1.25886354e-16j\n",
      "   1.38777878e-17+6.12323400e-17j  6.16297582e-33+7.03752031e-17j\n",
      "   5.00000000e-01+3.42113883e-49j  6.16297582e-33+3.74166420e-17j\n",
      "   5.00000000e-01-3.42113883e-49j]\n",
      " [-1.30736460e-32+1.11022302e-16j  1.00000000e+00+0.00000000e+00j\n",
      "   1.30736460e-32+0.00000000e+00j -6.16297582e-33+6.12323400e-17j\n",
      "   1.23259516e-32-1.37383090e-16j -6.16297582e-33-6.12323400e-17j\n",
      "   4.35788200e-33+3.74166420e-17j -3.92523115e-17+0.00000000e+00j\n",
      "  -4.35788200e-33+3.74166420e-17j]\n",
      " [ 5.00000000e-01-1.36845553e-48j  1.54074396e-32-5.55111512e-17j\n",
      "  -5.00000000e-01+1.36845553e-48j  0.00000000e+00+7.03752031e-17j\n",
      "  -1.38777878e-17-6.12323400e-17j  6.16297582e-33+1.25886354e-16j\n",
      "   5.00000000e-01+3.42113883e-49j -6.16297582e-33+3.74166420e-17j\n",
      "   5.00000000e-01-3.42113883e-49j]\n",
      " [-1.23259516e-32+1.34015774e-16j  1.38777878e-17+6.12323400e-17j\n",
      "   6.16297582e-33+5.07490473e-17j  1.00000000e+00+6.84227766e-49j\n",
      "   9.24446373e-33+0.00000000e+00j  0.00000000e+00-6.84227766e-49j\n",
      "   1.54074396e-32-8.12941988e-18j -4.62223187e-33-6.12323400e-17j\n",
      "  -6.16297582e-33+4.73817313e-17j]\n",
      " [-6.16297582e-33+6.12323400e-17j  6.16297582e-33-9.81307787e-17j\n",
      "  -6.16297582e-33-6.12323400e-17j  8.71576399e-33+0.00000000e+00j\n",
      "  -1.00000000e+00-4.35788200e-33j -8.71576399e-33+5.55111512e-17j\n",
      "   0.00000000e+00-6.12323400e-17j -6.16297582e-33+3.92523115e-17j\n",
      "   0.00000000e+00+6.12323400e-17j]\n",
      " [ 0.00000000e+00+2.29934717e-17j -1.38777878e-17-6.12323400e-17j\n",
      "   6.16297582e-33+1.06260199e-16j  0.00000000e+00+6.84227766e-49j\n",
      "  -9.24446373e-33+0.00000000e+00j  1.00000000e+00-6.84227766e-49j\n",
      "  -3.08148791e-33+4.73817313e-17j -6.16297582e-33+6.12323400e-17j\n",
      "  -6.16297582e-33-8.12941988e-18j]\n",
      " [ 5.00000000e-01+3.42113883e-49j  3.08148791e-33+3.74166420e-17j\n",
      "   5.00000000e-01-3.42113883e-49j  1.23259516e-32-8.12941988e-18j\n",
      "  -4.62223187e-33-6.12323400e-17j -6.16297582e-33+4.73817313e-17j\n",
      "  -5.00000000e-01+3.42113883e-49j  6.16297582e-33+1.11022302e-16j\n",
      "   5.00000000e-01-3.42113883e-49j]\n",
      " [ 4.35788200e-33+1.77904863e-17j -3.92523115e-17+0.00000000e+00j\n",
      "  -4.35788200e-33+3.74166420e-17j  0.00000000e+00-6.12323400e-17j\n",
      "  -6.16297582e-33+3.92523115e-17j  0.00000000e+00+6.12323400e-17j\n",
      "   4.35788200e-33+1.11022302e-16j  1.00000000e+00+0.00000000e+00j\n",
      "  -4.35788200e-33+0.00000000e+00j]\n",
      " [ 5.00000000e-01+3.42113883e-49j -3.08148791e-33+3.74166420e-17j\n",
      "   5.00000000e-01-3.42113883e-49j  0.00000000e+00+4.73817313e-17j\n",
      "  -6.16297582e-33+6.12323400e-17j -6.16297582e-33-8.12941988e-18j\n",
      "   5.00000000e-01+3.42113883e-49j -6.16297582e-33+0.00000000e+00j\n",
      "  -5.00000000e-01-3.42113883e-49j]]\n"
     ]
    }
   ],
   "source": [
    "# access the statevector \n",
    "print(\"\\nstatevector :\", job.result().get_statevector())\n",
    "\n",
    "# accedd the unitary\n",
    "print(\"\\ncircuit unitary : \\n\", job.result().get_unitary())"
   ]
  },
  {
   "cell_type": "markdown",
   "id": "8c141e00-7be0-4a1c-af2e-0a39decca5b2",
   "metadata": {},
   "source": [
    "For the above circuit with two spins of length $S=1$, the total dimension of the Hilbert space becomes $(2S+1)^2 = 9$. The state ordering in the basis in this case is (0 0), (1 0), (2 0), (0 1), (1 1), (2 1), (0 2), (1 2), (2 2). "
   ]
  },
  {
   "cell_type": "markdown",
   "id": "36692f9b-ddba-45fc-b2d4-e200102a9535",
   "metadata": {},
   "source": [
    "### Further remarks\n",
    "\n",
    "The `SpinSimulator` is a general simulator backend in the sense that it accepts any `SpinGate` with a well-defined generator. Similar to the `qasm_simulator` for qubits, there are no coupling maps or further restrictions posed on the applicable gates. \n",
    "\n",
    "In order to see how the spin setting introduced here can be used to describe a concrete experimental system of ultracold bosonic atoms with a gateset and coupling maps of a real device, check out the [collective spins hardware tutorial](./04_collective_spin_hardware.ipynb)."
   ]
  },
  {
   "cell_type": "code",
   "execution_count": 13,
   "id": "c4e7055a-7752-43a9-a252-c3dadba7c2ae",
   "metadata": {},
   "outputs": [
    {
     "data": {
      "text/html": [
       "<h3>Version Information</h3><table><tr><th>Qiskit Software</th><th>Version</th></tr><tr><td><code>qiskit-terra</code></td><td>0.19.0.dev0+37684d4</td></tr><tr><td><code>qiskit-aer</code></td><td>0.9.0</td></tr><tr><td><code>qiskit-ignis</code></td><td>0.6.0</td></tr><tr><td><code>qiskit-ibmq-provider</code></td><td>0.19.0.dev0+8f49a34</td></tr><tr><td><code>qiskit-aqua</code></td><td>0.9.5</td></tr><tr><td><code>qiskit</code></td><td>0.30.0</td></tr><tr><td><code>qiskit-nature</code></td><td>0.2.1</td></tr><tr><td><code>qiskit-optimization</code></td><td>0.3.0</td></tr><tr><th>System information</th></tr><tr><td>Python version</td><td>3.8.5</td></tr><tr><td>Python compiler</td><td>GCC 7.3.0</td></tr><tr><td>Python build</td><td>default, Sep  4 2020 07:30:14</td></tr><tr><td>OS</td><td>Linux</td></tr><tr><td>CPUs</td><td>4</td></tr><tr><td>Memory (Gb)</td><td>15.525527954101562</td></tr><tr><td colspan='2'>Mon Dec 06 23:42:34 2021 CET</td></tr></table>"
      ],
      "text/plain": [
       "<IPython.core.display.HTML object>"
      ]
     },
     "metadata": {},
     "output_type": "display_data"
    },
    {
     "data": {
      "text/html": [
       "<div style='width: 100%; background-color:#d5d9e0;padding-left: 10px; padding-bottom: 10px; padding-right: 10px; padding-top: 5px'><h3>This code is a part of Qiskit</h3><p>&copy; Copyright IBM 2017, 2021.</p><p>This code is licensed under the Apache License, Version 2.0. You may<br>obtain a copy of this license in the LICENSE.txt file in the root directory<br> of this source tree or at http://www.apache.org/licenses/LICENSE-2.0.<p>Any modifications or derivative works of this code must retain this<br>copyright notice, and modified files need to carry a notice indicating<br>that they have been altered from the originals.</p></div>"
      ],
      "text/plain": [
       "<IPython.core.display.HTML object>"
      ]
     },
     "metadata": {},
     "output_type": "display_data"
    }
   ],
   "source": [
    "import qiskit.tools.jupyter\n",
    "%qiskit_version_table\n",
    "%qiskit_copyright"
   ]
  }
 ],
 "metadata": {
  "kernelspec": {
   "display_name": "Python 3 (ipykernel)",
   "language": "python",
   "name": "python3"
  },
  "language_info": {
   "codemirror_mode": {
    "name": "ipython",
    "version": 3
   },
   "file_extension": ".py",
   "mimetype": "text/x-python",
   "name": "python",
   "nbconvert_exporter": "python",
   "pygments_lexer": "ipython3",
   "version": "3.8.5"
  }
 },
 "nbformat": 4,
 "nbformat_minor": 5
}
